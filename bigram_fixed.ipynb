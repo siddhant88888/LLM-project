{
 "cells": [
  {
   "cell_type": "code",
   "execution_count": 1,
   "metadata": {},
   "outputs": [
    {
     "name": "stdout",
     "output_type": "stream",
     "text": [
      "cuda:0\n"
     ]
    }
   ],
   "source": [
    "import torch\n",
    "import torch.nn as nn\n",
    "import torch.nn.functional as F\n",
    "device = 'cuda:0' if torch.cuda.is_available() else 'cpu'\n",
    "print(device)\n",
    "block_size = 8\n",
    "batch_size = 4\n",
    "learning_rate = 3e-2\n",
    "max_iters = 1000\n",
    "eval_iters = 250"
   ]
  },
  {
   "cell_type": "code",
   "execution_count": 9,
   "metadata": {},
   "outputs": [
    {
     "data": {
      "text/plain": [
       "torch.Size([5, 3, 4, 1])"
      ]
     },
     "execution_count": 9,
     "metadata": {},
     "output_type": "execute_result"
    }
   ],
   "source": [
    "# with open('wizard_of_oz.txt', 'r', encoding = 'utf-8') as f:\n",
    "#     text = f.read()\n",
    "# chars = sorted(set(text))\n",
    "\n",
    "# vocab_size = len(chars)\n",
    "\n",
    "x = torch.empty(5,3,4,1)\n",
    "y = torch.empty(1,4,1)\n",
    "(x.add_(y)).size()"
   ]
  },
  {
   "cell_type": "markdown",
   "metadata": {},
   "source": [
    "string_to_int = {ch:i for i, ch in enumerate(chars)}\n",
    "int_to_string = {i:ch for i, ch in enumerate(chars)}\n",
    "\n",
    "encode = lambda s: [string_to_int[c] for c in s]\n",
    "decode = lambda l: ''.join([int_to_string[i] for i in l])\n",
    "\n",
    "data = torch.tensor(encode(text), dtype= torch.long)\n",
    "print(data[:100])"
   ]
  },
  {
   "cell_type": "code",
   "execution_count": 4,
   "metadata": {},
   "outputs": [],
   "source": [
    "n = int(0.8 *len(data))\n",
    "train_data = data[:n]\n",
    "val_data = data[n:]\n",
    "\n"
   ]
  },
  {
   "cell_type": "code",
   "execution_count": 5,
   "metadata": {},
   "outputs": [
    {
     "name": "stdout",
     "output_type": "stream",
     "text": [
      "when input is:  tensor([75]) target is  tensor(27)\n",
      "when input is:  tensor([75, 27]) target is  tensor(63)\n",
      "when input is:  tensor([75, 27, 63]) target is  tensor(66)\n",
      "when input is:  tensor([75, 27, 63, 66]) target is  tensor(63)\n",
      "when input is:  tensor([75, 27, 63, 66, 63]) target is  tensor(68)\n",
      "when input is:  tensor([75, 27, 63, 66, 63, 68]) target is  tensor(56)\n",
      "when input is:  tensor([75, 27, 63, 66, 63, 68, 56]) target is  tensor(73)\n",
      "when input is:  tensor([75, 27, 63, 66, 63, 68, 56, 73]) target is  tensor(1)\n",
      "tensor([75, 27, 63, 66, 63, 68, 56, 73])\n",
      "tensor(1)\n"
     ]
    }
   ],
   "source": [
    "block_size = 8\n",
    "\n",
    "x = train_data[:block_size]\n",
    "y = train_data[1:block_size + 1]\n",
    "\n",
    "for t in range(block_size):\n",
    "    context = x[:t+1]\n",
    "    target = y[t]\n",
    "   \n",
    "    print('when input is: ', context, 'target is ', target)\n",
    "    \n",
    "print(context)\n",
    "print(target)"
   ]
  },
  {
   "cell_type": "code",
   "execution_count": 14,
   "metadata": {},
   "outputs": [],
   "source": [
    "@torch.no_grad()\n",
    "\n",
    "def estimate_loss():\n",
    "    out = {}\n",
    "    model.eval()\n",
    "    for split in ['train', 'val']:\n",
    "        losses = torch.zeros(eval_iters)\n",
    "        for k in range(eval_iters):\n",
    "            X, Y = get_batch(split)\n",
    "            logits, loss = model(X, Y)\n",
    "            losses[k] = loss.item()\n",
    "        out[split] = losses.mean()\n",
    "    model.train()\n",
    "    return out"
   ]
  },
  {
   "cell_type": "code",
   "execution_count": 15,
   "metadata": {},
   "outputs": [
    {
     "name": "stdout",
     "output_type": "stream",
     "text": [
      "\n",
      "OWKWMbEKP\n",
      "60Vm4LSkdLCroHnvfhP?s8pii9﻿tshLGY0ciJq;OWyyY G067mzYKzS;oP9?\n",
      "yaFQ7C0aSxw\n",
      "WH7&L4yzPb3y6E!F,\n",
      "'Zs:wCIqh3Lt,3QINO3z0Vi)8iYV'eVt0VNMD8\n",
      "c3sPPEe2lf. 5!gZT.AFl&Lr14uUv5Sg4﻿'Vn0iuhab)mLBZ(cQ!ethSd&sniNz9PL4ymf﻿m9T5h5uMw\n",
      "e)vpIn2GP(xT2wPbynV.:\n",
      "UkfGoOpH2cpVn5e:A2k2;:tKJst!1iEaVL&oOU\n",
      "8D6bNcm\n",
      "A\n",
      "j3n8kS64oR.Aw\n",
      "vT;qKW﻿wy9em.7VH!W﻿\n",
      ",f﻿W﻿9RU8Tvp?t9:2TwFQ\n",
      "a8\n",
      "ODax\n",
      "Bs?OiJ3?MB1i9c﻿ Db2c1wIpbcOW9 zA,bkRbW\n",
      "cYIBqYO5(LFhPPht98!H;L4ABSR8p'﻿\"Qz9F.lHiOBNI4uMFcm.7NmvpAbrHSwACxg'Q7nzSiuiGCH0V-C Nt,HrABZ&FQL&WcsuiGhNT\n"
     ]
    }
   ],
   "source": [
    "class BigramLanguageModel(nn.Module):\n",
    "    def __init__(self, vocab_size):\n",
    "        super().__init__()\n",
    "        self.token_embedding_table = nn.Embedding(vocab_size, vocab_size)\n",
    "        \n",
    "    def forward(self, index, targets=None):\n",
    "        logits = self.token_embedding_table(index)\n",
    "       \n",
    "        \n",
    "        \n",
    "        if targets is None:\n",
    "            loss = None\n",
    "        else:\n",
    "            B, T, C = logits.shape\n",
    "            logits = logits.view(B*T, C)\n",
    "            targets = targets.view(B*T)\n",
    "            loss = F.cross_entropy(logits, targets)\n",
    "        \n",
    "        return logits, loss\n",
    "    \n",
    "    def generate(self, index, max_new_tokens):\n",
    "        # index is (B, T) array of indices in the current context\n",
    "        for _ in range(max_new_tokens):\n",
    "            # get the predictions\n",
    "            logits, loss = self.forward(index)\n",
    "            \n",
    "            # focus only on the last time step\n",
    "            logits = logits[:, -1, :] # becomes (B, C)\n",
    "            # apply softmax to get probabilities\n",
    "            probs = F.softmax(logits, dim=-1) # (B, C)\n",
    "            # sample from the distribution\n",
    "            index_next = torch.multinomial(probs, num_samples=1) # (B, 1)\n",
    "            # append sampled index to the running sequence\n",
    "            index = torch.cat((index, index_next), dim=1) # (B, T+1)\n",
    "           \n",
    "        return index\n",
    "\n",
    "model = BigramLanguageModel(vocab_size)\n",
    "m = model.to(device)\n",
    "\n",
    "\n",
    "\n",
    "\n",
    "\n",
    "context = torch.zeros((1,1), dtype=torch.long, device=device)\n",
    "generated_chars = decode(model.generate(context, max_new_tokens=500)[0].tolist())\n",
    "print(generated_chars)"
   ]
  },
  {
   "cell_type": "code",
   "execution_count": 16,
   "metadata": {},
   "outputs": [
    {
     "name": "stdout",
     "output_type": "stream",
     "text": [
      "cuda:0\n",
      "cuda:0\n",
      "inputs:\n",
      "tensor([[56, 57, 67,  1, 60, 49, 62, 52],\n",
      "        [ 1, 68, 63,  1, 68, 56, 53,  1],\n",
      "        [56, 73,  8,  1, 49, 62, 52,  1],\n",
      "        [68, 56, 53,  1, 63, 68, 56, 53]], device='cuda:0')\n",
      "targets:\n",
      "tensor([[57, 67,  1, 60, 49, 62, 52,  1],\n",
      "        [68, 63,  1, 68, 56, 53,  1, 53],\n",
      "        [73,  8,  1, 49, 62, 52,  1, 68],\n",
      "        [56, 53,  1, 63, 68, 56, 53, 66]], device='cuda:0')\n"
     ]
    }
   ],
   "source": [
    "def get_batch(split):\n",
    "    data = train_data if split =='train' else val_data\n",
    "    # This generates random indexes to pull 8 elements from.\n",
    "    ix = torch.randint(len(data) - block_size, (batch_size,))\n",
    "   \n",
    "    # take tensors from 30233 to 30241(30233+8) and do this for\n",
    "    # every tensor in ix.\n",
    "    x = torch.stack([data[i:i+block_size] for i in ix])\n",
    "    #take tensors from 30234(30233+1) to 30242(30233+8+1) and do this \n",
    "    # for every tensor in ix.\n",
    "    y = torch.stack([data[i+1:i+block_size + 1] for i in ix])\n",
    "    x, y = x.to(device), y.to(device)\n",
    "    return x,y\n",
    "\n",
    "x,y = get_batch('train')\n",
    "print(x.device)\n",
    "print(y.device)\n",
    "print('inputs:')\n",
    "print(x)\n",
    "print('targets:')\n",
    "print(y)\n",
    "                       "
   ]
  },
  {
   "cell_type": "code",
   "execution_count": null,
   "metadata": {},
   "outputs": [],
   "source": []
  },
  {
   "cell_type": "code",
   "execution_count": 17,
   "metadata": {},
   "outputs": [
    {
     "name": "stdout",
     "output_type": "stream",
     "text": [
      "501\n"
     ]
    }
   ],
   "source": [
    "print(len(generated_chars))"
   ]
  },
  {
   "cell_type": "code",
   "execution_count": 44,
   "metadata": {
    "scrolled": true
   },
   "outputs": [
    {
     "name": "stdout",
     "output_type": "stream",
     "text": [
      "step: 0,train loss: 2.423, val loss: 2.473\n",
      "step: 250,train loss: 2.443, val loss: 2.545\n",
      "step: 500,train loss: 2.433, val loss: 2.484\n",
      "step: 750,train loss: 2.445, val loss: 2.533\n",
      "2.3225643634796143\n"
     ]
    }
   ],
   "source": [
    "optimizer = torch.optim.AdamW(model.parameters(), lr=learning_rate)\n",
    "\n",
    "for iter in range(max_iters):\n",
    "    if iter % eval_iters == 0:\n",
    "        losses = estimate_loss()\n",
    "        print(f'step: {iter},train loss: {losses[\"train\"]:.3f}, val loss: {losses[\"val\"]:.3f}')\n",
    "\n",
    "    # sample a batch of data\n",
    "    xb, yb = get_batch('train')\n",
    "\n",
    "    # evaluate the loss\n",
    "\n",
    "    logits, loss = model.forward(xb, yb)\n",
    "   \n",
    "    optimizer.zero_grad(set_to_none=True)\n",
    "    loss.backward()\n",
    "    optimizer.step()\n",
    "print(loss.item())"
   ]
  },
  {
   "cell_type": "code",
   "execution_count": 45,
   "metadata": {},
   "outputs": [
    {
     "name": "stdout",
     "output_type": "stream",
     "text": [
      "\n",
      "Fon oond towond Malled proystheatcrathered \"Thy, aro aindled t t spowhid firgimethe the defer. hy y air.\"Bkeronen, Dowimy we,  th s o hawlor isthe plyosun t tche farpl inoror y tame inoude t hovete\n",
      "or warode, rad d omeat an me\n",
      "ted,\" se\n",
      "\"hel Zey g wads, the atid alf  Doke I e Houthend thegr ofe evem,\" to wlk s Don athert d calon, Wit aitroroous fe ngis.'sizas\n",
      "ttele ill thathenlfird til t thous nd, t's e h oomy, plararom  he Ozar I wan I o e thealdsmely cocend Wicl!\" th.\n",
      "\n",
      "\"Wil santharouts the\n",
      "\n",
      "can\n"
     ]
    }
   ],
   "source": [
    "context = torch.zeros((1,1), dtype = torch.long, device = device)\n",
    "generated_chars = decode(m.generate(context, max_new_tokens = 500)[0].tolist())\n",
    "print(generated_chars)"
   ]
  },
  {
   "cell_type": "code",
   "execution_count": null,
   "metadata": {},
   "outputs": [],
   "source": []
  }
 ],
 "metadata": {
  "kernelspec": {
   "display_name": "cuda-gpt",
   "language": "python",
   "name": "cuda"
  },
  "language_info": {
   "codemirror_mode": {
    "name": "ipython",
    "version": 3
   },
   "file_extension": ".py",
   "mimetype": "text/x-python",
   "name": "python",
   "nbconvert_exporter": "python",
   "pygments_lexer": "ipython3",
   "version": "3.11.4"
  }
 },
 "nbformat": 4,
 "nbformat_minor": 2
}
